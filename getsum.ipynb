{
  "nbformat": 4,
  "nbformat_minor": 0,
  "metadata": {
    "colab": {
      "provenance": [],
      "authorship_tag": "ABX9TyMFeoVh2BUzVMCnx5Srx8dW"
    },
    "kernelspec": {
      "name": "python3",
      "display_name": "Python 3"
    },
    "language_info": {
      "name": "python"
    }
  },
  "cells": [
    {
      "cell_type": "markdown",
      "source": [
        "\" Lista sisältää kokonaisluvut 1 \\dots n. Monellako tavalla voit valita listalta k lukua niin, että niiden summa on x?\n",
        "  Voit olettaa, että 1 \\le n \\le 10 ja 1 \\le k \\le n. Algoritmisi tulee toimia tehokkaasti kaikissa näissä tapauksissa.\n",
        "  Toteuta tiedostoon getsum.py funktio count, joka palauttaa tehtävän vastauksen. \"\""
      ],
      "metadata": {
        "id": "T26PEp-oohXv"
      }
    },
    {
      "cell_type": "code",
      "execution_count": 24,
      "metadata": {
        "colab": {
          "base_uri": "https://localhost:8080/"
        },
        "id": "7XfJ_1Yrm9WB",
        "outputId": "73df2a02-2793-4c7b-b6f7-fec518d51250"
      },
      "outputs": [
        {
          "output_type": "stream",
          "name": "stdout",
          "text": [
            "1\n",
            "2\n",
            "6\n",
            "16\n"
          ]
        }
      ],
      "source": [
        "import itertools\n",
        "\n",
        "def count(n, k, x):\n",
        "    # TODO\n",
        "    nk = list(range(1, n+1))\n",
        "    count = 0\n",
        "    for repetition in itertools.combinations(nk, k):\n",
        "        #print(repetition)\n",
        "        if sum(repetition) == x:\n",
        "          count += 1\n",
        "          #print(repetition)\n",
        "\n",
        "    return count\n",
        "\n",
        "if __name__ == \"__main__\":\n",
        "    print(count(1, 1, 1)) # 1\n",
        "    print(count(5, 2, 6)) # 2\n",
        "    print(count(8, 3, 12)) # 6\n",
        "    print(count(10, 4, 20)) # 16"
      ]
    }
  ]
}